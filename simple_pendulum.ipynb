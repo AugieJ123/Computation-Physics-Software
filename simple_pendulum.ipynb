{
 "cells": [
  {
   "cell_type": "markdown",
   "metadata": {},
   "source": [
    "# Simple Pendulum Experiment"
   ]
  },
  {
   "cell_type": "markdown",
   "metadata": {},
   "source": [
    "### AIM: To determine the Height of a ceiling using a simple pendulum"
   ]
  },
  {
   "cell_type": "markdown",
   "metadata": {},
   "source": [
    "This is a computation analysis of a simple pendulum experiment. Let analysis the relation of the height of the ceiling with the pendulum.  \n",
    "Normally, $$ T = 2 \\pi \\sqrt{\\frac{l}{g}} $$ but, $$ l = H - y $$ Therefore, $$ T^2 = \\frac{4\\pi^2 H}{g} - \\frac{4\\pi^2 y}{g} $$"
   ]
  },
  {
   "cell_type": "markdown",
   "metadata": {},
   "source": [
    "To find H, we look for the intercept of the graph of  $ T^2 $ against $ y $."
   ]
  },
  {
   "cell_type": "code",
   "execution_count": 2,
   "metadata": {},
   "outputs": [],
   "source": [
    "import numpy as np\n",
    "import matplotlib.pyplot as plt"
   ]
  },
  {
   "cell_type": "code",
   "execution_count": 3,
   "metadata": {},
   "outputs": [],
   "source": [
    "# Number of trial\n",
    "n_t: int = 10\n",
    "\n",
    "# Number of oscillation\n",
    "n_o: int = 10"
   ]
  },
  {
   "cell_type": "code",
   "execution_count": 6,
   "metadata": {},
   "outputs": [],
   "source": [
    "# The distance of the bob above the ground\n",
    "y = np.arange(1, n_t + 1, 1)"
   ]
  },
  {
   "cell_type": "code",
   "execution_count": 7,
   "metadata": {},
   "outputs": [],
   "source": [
    "# initial time\n",
    "t_1 = np.array([10, 13, 16.2, 19, 21, 23.5, 25.7, 27.4, 30, 34.5])\n",
    "\n",
    "# final time\n",
    "t_2 = np.array([10.7, 14.3, 16.7, 19.5, 22.2, 24.3, 26.1, 30.2, 31.2, 35.3])"
   ]
  },
  {
   "cell_type": "code",
   "execution_count": 9,
   "metadata": {},
   "outputs": [],
   "source": [
    "# Total time taken for each trial\n",
    "t = (t_1 + t_2) / 2"
   ]
  },
  {
   "cell_type": "code",
   "execution_count": 11,
   "metadata": {},
   "outputs": [],
   "source": [
    "# the period\n",
    "T = t / n_o"
   ]
  },
  {
   "cell_type": "code",
   "execution_count": 13,
   "metadata": {},
   "outputs": [],
   "source": [
    "T_sqr = T ** 2"
   ]
  },
  {
   "cell_type": "code",
   "execution_count": 17,
   "metadata": {},
   "outputs": [
    {
     "data": {
      "text/plain": [
       "[<matplotlib.lines.Line2D at 0x7ff00251e7d0>]"
      ]
     },
     "execution_count": 17,
     "metadata": {},
     "output_type": "execute_result"
    },
    {
     "data": {
      "image/png": "[encoded data removed]",
      "text/plain": [
       "<Figure size 640x480 with 1 Axes>"
      ]
     },
     "metadata": {},
     "output_type": "display_data"
    }
   ],
   "source": [
    "plt.plot(y, T_sqr)"
   ]
  },
  {
   "cell_type": "code",
   "execution_count": 86,
   "metadata": {},
   "outputs": [],
   "source": [
    "from dataclasses import dataclass\n",
    "\n",
    "@dataclass()\n",
    "class s_pendulum:\n",
    "    number_trial: int\n",
    "    number_oscillation: int\n",
    "    y : list\n",
    "    time_1: list\n",
    "    time_2: list\n",
    "\n",
    "    def final_time(self):\n",
    "        '''\n",
    "            Calculating the final time of each trial. By converting the times to numpy array.\n",
    "        '''\n",
    "        # Convert the initial and final time for each trial to numpy array\n",
    "        n_time_1 = np.array(self.time_1)\n",
    "        n_time_2 = np.array(self.time_2)\n",
    "\n",
    "        # Calculate the final time of each trial\n",
    "        f_time = (n_time_1 + n_time_2) / 2\n",
    "        return f_time\n",
    "\n",
    "    def period(self):\n",
    "        '''\n",
    "            Calculating the period T of each trial per oscillation.\n",
    "        '''\n",
    "        time = self.final_time()\n",
    "        period = time / self.number_oscillation\n",
    "        period_square = period ** 2\n",
    "        return period_square\n",
    "\n",
    "    def graph(self):\n",
    "        '''\n",
    "            Plot the graph of Period vs distance of the bob above the ground\n",
    "        '''\n",
    "        n_y = np.array(self.y)\n",
    "        n_p = self.period()\n",
    "        plot = plt.plot(n_y, n_p,)\n",
    "        return plot\n",
    "\n",
    "    def slope(self):\n",
    "        '''\n",
    "            Find the slope of the graph for every plotted points.\n",
    "        '''\n",
    "        n_y = np.array(self.y)\n",
    "        n_p = self.period()\n",
    "        slope_ = np.gradient(n_y, n_p)\n",
    "        return slope_\n",
    "\n"
   ]
  },
  {
   "cell_type": "code",
   "execution_count": 87,
   "metadata": {},
   "outputs": [],
   "source": [
    "y = [.2, .3, .4, .5, .6, .7, .8, .9, 1.0]\n",
    "t_1 = [17.99, 21.17, 24.48, 27.40, 29.65, 32.04, 34.23, 36.08, 38.11]\n",
    "t_2 = [17.14, 20.99, 24.22, 26.87, 29.87, 31.99, 34.16, 36.16, 38.02]\n",
    "number_oscillation = 20"
   ]
  },
  {
   "cell_type": "code",
   "execution_count": 88,
   "metadata": {},
   "outputs": [],
   "source": [
    "pend = s_pendulum(9, number_oscillation, y, t_1, t_2)"
   ]
  },
  {
   "cell_type": "code",
   "execution_count": 89,
   "metadata": {},
   "outputs": [
    {
     "data": {
      "text/plain": [
       "array([17.565, 21.08 , 24.35 , 27.135, 29.76 , 32.015, 34.195, 36.12 ,\n",
       "       38.065])"
      ]
     },
     "execution_count": 89,
     "metadata": {},
     "output_type": "execute_result"
    }
   ],
   "source": [
    "pend.final_time()"
   ]
  },
  {
   "cell_type": "code",
   "execution_count": 90,
   "metadata": {},
   "outputs": [
    {
     "data": {
      "text/plain": [
       "array([0.77132306, 1.110916  , 1.48230625, 1.84077056, 2.214144  ,\n",
       "       2.56240056, 2.92324506, 3.261636  , 3.62236056])"
      ]
     },
     "execution_count": 90,
     "metadata": {},
     "output_type": "execute_result"
    }
   ],
   "source": [
    "pend.period()"
   ]
  },
  {
   "cell_type": "code",
   "execution_count": 91,
   "metadata": {},
   "outputs": [
    {
     "data": {
      "text/plain": [
       "[<matplotlib.lines.Line2D at 0x7ff0023d1ea0>]"
      ]
     },
     "execution_count": 91,
     "metadata": {},
     "output_type": "execute_result"
    },
    {
     "data": {
      "image/png": "[encoded data removed]",
      "text/plain": [
       "<Figure size 640x480 with 1 Axes>"
      ]
     },
     "metadata": {},
     "output_type": "display_data"
    }
   ],
   "source": [
    "pend.graph()"
   ]
  },
  {
   "cell_type": "code",
   "execution_count": 92,
   "metadata": {},
   "outputs": [
    {
     "data": {
      "text/plain": [
       "array([0.2944702 , 0.28242814, 0.27419915, 0.27351155, 0.27782266,\n",
       "       0.28222506, 0.28661718, 0.28666025, 0.27721982])"
      ]
     },
     "execution_count": 92,
     "metadata": {},
     "output_type": "execute_result"
    }
   ],
   "source": [
    "pend.slope()"
   ]
  },
  {
   "cell_type": "code",
   "execution_count": null,
   "metadata": {},
   "outputs": [],
   "source": []
  }
 ],
 "metadata": {
  "kernelspec": {
   "display_name": "Python 3.10.6 64-bit",
   "language": "python",
   "name": "python3"
  },
  "language_info": {
   "codemirror_mode": {
    "name": "ipython",
    "version": 3
   },
   "file_extension": ".py",
   "mimetype": "text/x-python",
   "name": "python",
   "nbconvert_exporter": "python",
   "pygments_lexer": "ipython3",
   "version": "3.10.6"
  },
  "orig_nbformat": 4,
  "vscode": {
   "interpreter": {
    "hash": "916dbcbb3f70747c44a77c7bcd40155683ae19c65e1c03b4aa3499c5328201f1"
   }
  }
 },
 "nbformat": 4,
 "nbformat_minor": 2
}
