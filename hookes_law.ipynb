{
 "cells": [
  {
   "cell_type": "markdown",
   "metadata": {},
   "source": [
    "# Hooke's Law"
   ]
  },
  {
   "cell_type": "markdown",
   "metadata": {},
   "source": [
    "### AIM: To verify Hooke's Law."
   ]
  },
  {
   "cell_type": "markdown",
   "metadata": {},
   "source": [
    "Theory: $$ F = -{k}{x} $$ where $$ y_0 = Position \\; of \\; the \\; spring \\; with \\; no \\; mass $$, $$ x = y_i - y_0 $$, and $$ y_i = Position \\; of \\; the \\; spring \\; with \\; a \\; mass $$"
   ]
  },
  {
   "cell_type": "code",
   "execution_count": 1,
   "metadata": {},
   "outputs": [],
   "source": [
    "import numpy as np\n",
    "import matplotlib.pyplot as plt"
   ]
  },
  {
   "cell_type": "code",
   "execution_count": 2,
   "metadata": {},
   "outputs": [],
   "source": [
    "y_0 = 20\n",
    "y_i = np.arange(20.5, 100, 10)\n",
    "mass = np.arange(20, 100, 10)\n",
    "g = 9.8\n",
    "force = mass * g\n",
    "extension = y_i - y_0"
   ]
  },
  {
   "cell_type": "code",
   "execution_count": 3,
   "metadata": {},
   "outputs": [
    {
     "name": "stdout",
     "output_type": "stream",
     "text": [
      "[ 0.5 10.5 20.5 30.5 40.5 50.5 60.5 70.5]\n"
     ]
    }
   ],
   "source": [
    "print(extension)"
   ]
  },
  {
   "cell_type": "code",
   "execution_count": 4,
   "metadata": {},
   "outputs": [
    {
     "data": {
      "text/plain": [
       "[<matplotlib.lines.Line2D at 0x7f93f67d4ee0>]"
      ]
     },
     "execution_count": 4,
     "metadata": {},
     "output_type": "execute_result"
    },
    {
     "data": {
      "image/png": "[encoded data removed]",
      "text/plain": [
       "<Figure size 640x480 with 1 Axes>"
      ]
     },
     "metadata": {},
     "output_type": "display_data"
    }
   ],
   "source": [
    "plt.plot(extension, force)"
   ]
  },
  {
   "cell_type": "code",
   "execution_count": 5,
   "metadata": {},
   "outputs": [
    {
     "data": {
      "text/plain": [
       "array([0.10204082, 0.10204082, 0.10204082, 0.10204082, 0.10204082,\n",
       "       0.10204082, 0.10204082, 0.10204082])"
      ]
     },
     "execution_count": 5,
     "metadata": {},
     "output_type": "execute_result"
    }
   ],
   "source": [
    "np.gradient(extension, force)"
   ]
  },
  {
   "cell_type": "code",
   "execution_count": 6,
   "metadata": {},
   "outputs": [],
   "source": [
    "from dataclasses import dataclass\n",
    "\n",
    "\n",
    "@dataclass \n",
    "class hookes_law():\n",
    "    y_zero: float\n",
    "    gravity: float\n",
    "    masses: list\n",
    "    y_load: list\n",
    "    y_unload: list\n",
    "\n",
    "    def pointer_mean(self):\n",
    "        ''' \n",
    "            Calculate the mean pointer of the spring when the load is attached and when unattached.\n",
    "        '''\n",
    "        n_y_load = np.array(self.y_load)\n",
    "        n_y_unload = np.array(self.y_unload)\n",
    "        mean_ = (n_y_load + n_y_unload) / 2\n",
    "        return mean_\n",
    "\n",
    "    def forces(self):\n",
    "        '''\n",
    "            Calculate the force of each mass by multiple them by the gravity.\n",
    "        '''\n",
    "        n_masses = np.array(self.masses)\n",
    "        forces_ = n_masses * self.gravity\n",
    "        return forces_\n",
    "\n",
    "    def extensions(self):\n",
    "        '''\n",
    "            Calculate the extension of the spring from the mean pointer positions and the \n",
    "            initial pointer position of the spring when no mass is attach. \n",
    "        '''\n",
    "        pointer_mean_ = self.pointer_mean()\n",
    "        extension = pointer_mean_ - self.y_zero\n",
    "        return extension\n",
    "\n",
    "    def graph(self):\n",
    "        '''\n",
    "            Draw the graph of Force vs Extension.\n",
    "        '''\n",
    "        _forces = self.forces()\n",
    "        _extensions= self.extensions()\n",
    "        plot = plt.plot(_extensions, _forces)\n",
    "        return plot\n",
    "\n",
    "    def slope(self):\n",
    "        '''\n",
    "            Calculate the slope of the graph. The slope is the spring constant k\n",
    "        '''\n",
    "        _forces = self.forces()\n",
    "        _extensions= self.extensions()\n",
    "        slope_ = np.gradient(_forces, _extensions)\n",
    "        return slope_"
   ]
  },
  {
   "cell_type": "code",
   "execution_count": 7,
   "metadata": {},
   "outputs": [],
   "source": [
    "y_zero = 0.042\n",
    "gravity = 9.8\n",
    "masses = [20, 40, 60, 80, 100, 120]\n",
    "y_load = [0.049, 0.058, 0.067, 0.072, 0.081, 0.089]\n",
    "y_unload = [0.049, 0.058, 0.067, 0.072, 0.081, 0.089]"
   ]
  },
  {
   "cell_type": "code",
   "execution_count": 8,
   "metadata": {},
   "outputs": [],
   "source": [
    "hookes = hookes_law(y_zero, gravity, masses, y_load, y_unload)"
   ]
  },
  {
   "cell_type": "code",
   "execution_count": 9,
   "metadata": {},
   "outputs": [
    {
     "data": {
      "text/plain": [
       "array([0.049, 0.058, 0.067, 0.072, 0.081, 0.089])"
      ]
     },
     "execution_count": 9,
     "metadata": {},
     "output_type": "execute_result"
    }
   ],
   "source": [
    "hookes.pointer_mean()"
   ]
  },
  {
   "cell_type": "code",
   "execution_count": 10,
   "metadata": {},
   "outputs": [
    {
     "data": {
      "text/plain": [
       "array([ 196.,  392.,  588.,  784.,  980., 1176.])"
      ]
     },
     "execution_count": 10,
     "metadata": {},
     "output_type": "execute_result"
    }
   ],
   "source": [
    "hookes.forces()"
   ]
  },
  {
   "cell_type": "code",
   "execution_count": 11,
   "metadata": {},
   "outputs": [
    {
     "data": {
      "text/plain": [
       "array([0.007, 0.016, 0.025, 0.03 , 0.039, 0.047])"
      ]
     },
     "execution_count": 11,
     "metadata": {},
     "output_type": "execute_result"
    }
   ],
   "source": [
    "hookes.extensions()"
   ]
  },
  {
   "cell_type": "code",
   "execution_count": 12,
   "metadata": {},
   "outputs": [
    {
     "data": {
      "text/plain": [
       "[<matplotlib.lines.Line2D at 0x7f93f46d3880>]"
      ]
     },
     "execution_count": 12,
     "metadata": {},
     "output_type": "execute_result"
    },
    {
     "data": {
      "image/png": "[encoded data removed]",
      "text/plain": [
       "<Figure size 640x480 with 1 Axes>"
      ]
     },
     "metadata": {},
     "output_type": "display_data"
    }
   ],
   "source": [
    "hookes.graph()"
   ]
  },
  {
   "cell_type": "code",
   "execution_count": 13,
   "metadata": {},
   "outputs": [
    {
     "data": {
      "text/plain": [
       "array([21777.77777778, 21777.77777778, 32977.77777778, 32977.77777778,\n",
       "       23218.95424837, 24500.        ])"
      ]
     },
     "execution_count": 13,
     "metadata": {},
     "output_type": "execute_result"
    }
   ],
   "source": [
    "hookes.slope()"
   ]
  },
  {
   "cell_type": "code",
   "execution_count": null,
   "metadata": {},
   "outputs": [],
   "source": []
  },
  {
   "cell_type": "markdown",
   "metadata": {},
   "source": [
    "$ \\int_{a}^{b} x^2 \\,dx $"
   ]
  }
 ],
 "metadata": {
  "kernelspec": {
   "display_name": "Python 3.10.6 64-bit",
   "language": "python",
   "name": "python3"
  },
  "language_info": {
   "codemirror_mode": {
    "name": "ipython",
    "version": 3
   },
   "file_extension": ".py",
   "mimetype": "text/x-python",
   "name": "python",
   "nbconvert_exporter": "python",
   "pygments_lexer": "ipython3",
   "version": "3.10.6"
  },
  "orig_nbformat": 4,
  "vscode": {
   "interpreter": {
    "hash": "916dbcbb3f70747c44a77c7bcd40155683ae19c65e1c03b4aa3499c5328201f1"
   }
  }
 },
 "nbformat": 4,
 "nbformat_minor": 2
}
